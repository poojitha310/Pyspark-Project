{
 "cells": [
  {
   "cell_type": "code",
   "execution_count": 9,
   "id": "02b77ce7",
   "metadata": {},
   "outputs": [],
   "source": [
    "from pyspark.sql import SparkSession"
   ]
  },
  {
   "cell_type": "code",
   "execution_count": 10,
   "id": "0bf274e5",
   "metadata": {},
   "outputs": [],
   "source": [
    "spark = SparkSession.builder.appName(\" Pyspark Tutorial\").config(\"spark.memory.offHeap.enabled\",\"true\").config(\"spark.memory.offHeap.size\",\"10g\").getOrCreate()"
   ]
  },
  {
   "cell_type": "code",
   "execution_count": 43,
   "id": "ed61058e",
   "metadata": {},
   "outputs": [],
   "source": [
    "df = spark.read.csv('Downloads\\IMDB_100.csv',header=True,escape=\"\\\"\")"
   ]
  },
  {
   "cell_type": "code",
   "execution_count": 44,
   "id": "2ac885a9",
   "metadata": {},
   "outputs": [
    {
     "name": "stdout",
     "output_type": "stream",
     "text": [
      "+--------------------+--------------------+--------------------+----+-------+\n",
      "|                Name|               Genre|         Description|Year|Runtime|\n",
      "+--------------------+--------------------+--------------------+----+-------+\n",
      "|Das Cabinet des D...|Horror, Mystery, ...|Hypnotist Dr. Cal...|1920|   null|\n",
      "|           Nosferatu|Fantasy, Horror  ...|Vampire Count Orl...|1922| 94 min|\n",
      "|        Safety Last!|Action, Comedy, T...|A boy leaves his ...|null| 74 min|\n",
      "|       The Gold Rush|Adventure, Comedy...|A prospector goes...|null|   null|\n",
      "|         The General|Action, Adventure...|After being rejec...|null| 67 min|\n",
      "|          Metropolis|                null|In a futuristic c...|null|   null|\n",
      "|Sunrise: A Song o...|Drama, Romance   ...|A sophisticated u...|1927|   null|\n",
      "| Steamboat Bill, Jr.|Action, Comedy, D...|The effete son of...|1928| 70 min|\n",
      "|       The Cameraman|Comedy, Drama, Fa...|                null|1928| 76 min|\n",
      "|La passion de Jea...|Biography, Drama,...|In 1431, Jeanne d...|1928|   null|\n",
      "|    Un chien andalou|Short, Fantasy, H...|Luis Buñuel and S...|1929| 16 min|\n",
      "|     Animal Crackers|Comedy, Family, M...|Mayhem and zanine...|1930| 97 min|\n",
      "|          L'âge d'or|Comedy, Drama    ...|A surrealist tale...|1930| 60 min|\n",
      "|         City Lights|Comedy, Drama, Ro...|With the aid of a...|1931| 87 min|\n",
      "|             Dracula|Drama, Fantasy, H...|Transylvanian vam...|1931| 75 min|\n",
      "|        Frankenstein|Drama, Horror, Sc...|Dr. Frankenstein ...|1931| 70 min|\n",
      "|       Little Caesar|Action, Crime, Dr...|A small-time crim...|1931| 79 min|\n",
      "|M - Eine Stadt su...|Crime, Mystery, T...|When the police i...|1931|117 min|\n",
      "|     Monkey Business|Comedy, Family, M...|On a transatlanti...|1931| 77 min|\n",
      "|    The Public Enemy|Crime, Drama     ...|An Irish-American...|1931| 83 min|\n",
      "+--------------------+--------------------+--------------------+----+-------+\n",
      "only showing top 20 rows\n",
      "\n"
     ]
    }
   ],
   "source": [
    "df.show()"
   ]
  },
  {
   "cell_type": "code",
   "execution_count": 45,
   "id": "328b8c18",
   "metadata": {},
   "outputs": [
    {
     "name": "stdout",
     "output_type": "stream",
     "text": [
      "root\n",
      " |-- Name: string (nullable = true)\n",
      " |-- Genre: string (nullable = true)\n",
      " |-- Description: string (nullable = true)\n",
      " |-- Year: string (nullable = true)\n",
      " |-- Runtime: string (nullable = true)\n",
      "\n"
     ]
    }
   ],
   "source": [
    "df.printSchema()"
   ]
  },
  {
   "cell_type": "code",
   "execution_count": 46,
   "id": "36aacca0",
   "metadata": {},
   "outputs": [
    {
     "data": {
      "text/plain": [
       "[Row(Name='Das Cabinet des Dr. Caligari', Genre='Horror, Mystery, Thriller            ', Description='Hypnotist Dr. Caligari uses a somnambulist, Cesare, to commit murders.', Year='1920', Runtime=None),\n",
       " Row(Name='Nosferatu', Genre='Fantasy, Horror            ', Description=\"Vampire Count Orlok expresses interest in a new residence and real estate agent Hutter's wife.\", Year='1922', Runtime='94 min'),\n",
       " Row(Name='Safety Last!', Genre='Action, Comedy, Thriller            ', Description='A boy leaves his small country town and heads to the big city to get a job. As soon as he makes it big his sweetheart will join him and marry him. His enthusiasm to get ahead leads to some interesting adventures.', Year=None, Runtime='74 min')]"
      ]
     },
     "execution_count": 46,
     "metadata": {},
     "output_type": "execute_result"
    }
   ],
   "source": [
    "df.head(3)"
   ]
  },
  {
   "cell_type": "code",
   "execution_count": 47,
   "id": "50e093b3",
   "metadata": {},
   "outputs": [
    {
     "name": "stdout",
     "output_type": "stream",
     "text": [
      "+--------------------+--------------------+\n",
      "|                Name|               Genre|\n",
      "+--------------------+--------------------+\n",
      "|Das Cabinet des D...|Horror, Mystery, ...|\n",
      "|           Nosferatu|Fantasy, Horror  ...|\n",
      "|        Safety Last!|Action, Comedy, T...|\n",
      "|       The Gold Rush|Adventure, Comedy...|\n",
      "|         The General|Action, Adventure...|\n",
      "|          Metropolis|                null|\n",
      "|Sunrise: A Song o...|Drama, Romance   ...|\n",
      "| Steamboat Bill, Jr.|Action, Comedy, D...|\n",
      "|       The Cameraman|Comedy, Drama, Fa...|\n",
      "|La passion de Jea...|Biography, Drama,...|\n",
      "|    Un chien andalou|Short, Fantasy, H...|\n",
      "|     Animal Crackers|Comedy, Family, M...|\n",
      "|          L'âge d'or|Comedy, Drama    ...|\n",
      "|         City Lights|Comedy, Drama, Ro...|\n",
      "|             Dracula|Drama, Fantasy, H...|\n",
      "|        Frankenstein|Drama, Horror, Sc...|\n",
      "|       Little Caesar|Action, Crime, Dr...|\n",
      "|M - Eine Stadt su...|Crime, Mystery, T...|\n",
      "|     Monkey Business|Comedy, Family, M...|\n",
      "|    The Public Enemy|Crime, Drama     ...|\n",
      "+--------------------+--------------------+\n",
      "only showing top 20 rows\n",
      "\n"
     ]
    }
   ],
   "source": [
    "df.select(['Name','Genre']).show()"
   ]
  },
  {
   "cell_type": "code",
   "execution_count": 48,
   "id": "22e0d9e7",
   "metadata": {},
   "outputs": [
    {
     "name": "stdout",
     "output_type": "stream",
     "text": [
      "+--------------------+--------------------+----+-------+\n",
      "|                Name|         Description|Year|Runtime|\n",
      "+--------------------+--------------------+----+-------+\n",
      "|Das Cabinet des D...|Hypnotist Dr. Cal...|1920|   null|\n",
      "|           Nosferatu|Vampire Count Orl...|1922| 94 min|\n",
      "|        Safety Last!|A boy leaves his ...|null| 74 min|\n",
      "|       The Gold Rush|A prospector goes...|null|   null|\n",
      "|         The General|After being rejec...|null| 67 min|\n",
      "|          Metropolis|In a futuristic c...|null|   null|\n",
      "|Sunrise: A Song o...|A sophisticated u...|1927|   null|\n",
      "| Steamboat Bill, Jr.|The effete son of...|1928| 70 min|\n",
      "|       The Cameraman|                null|1928| 76 min|\n",
      "|La passion de Jea...|In 1431, Jeanne d...|1928|   null|\n",
      "|    Un chien andalou|Luis Buñuel and S...|1929| 16 min|\n",
      "|     Animal Crackers|Mayhem and zanine...|1930| 97 min|\n",
      "|          L'âge d'or|A surrealist tale...|1930| 60 min|\n",
      "|         City Lights|With the aid of a...|1931| 87 min|\n",
      "|             Dracula|Transylvanian vam...|1931| 75 min|\n",
      "|        Frankenstein|Dr. Frankenstein ...|1931| 70 min|\n",
      "|       Little Caesar|A small-time crim...|1931| 79 min|\n",
      "|M - Eine Stadt su...|When the police i...|1931|117 min|\n",
      "|     Monkey Business|On a transatlanti...|1931| 77 min|\n",
      "|    The Public Enemy|An Irish-American...|1931| 83 min|\n",
      "+--------------------+--------------------+----+-------+\n",
      "only showing top 20 rows\n",
      "\n"
     ]
    }
   ],
   "source": [
    "df=df.drop('Genre')\n",
    "df.show()"
   ]
  },
  {
   "cell_type": "code",
   "execution_count": 49,
   "id": "2b708260",
   "metadata": {},
   "outputs": [
    {
     "name": "stdout",
     "output_type": "stream",
     "text": [
      "+--------------------+--------------------+----+-------+\n",
      "|            New Name|         Description|Year|Runtime|\n",
      "+--------------------+--------------------+----+-------+\n",
      "|Das Cabinet des D...|Hypnotist Dr. Cal...|1920|   null|\n",
      "|           Nosferatu|Vampire Count Orl...|1922| 94 min|\n",
      "|        Safety Last!|A boy leaves his ...|null| 74 min|\n",
      "|       The Gold Rush|A prospector goes...|null|   null|\n",
      "|         The General|After being rejec...|null| 67 min|\n",
      "|          Metropolis|In a futuristic c...|null|   null|\n",
      "|Sunrise: A Song o...|A sophisticated u...|1927|   null|\n",
      "| Steamboat Bill, Jr.|The effete son of...|1928| 70 min|\n",
      "|       The Cameraman|                null|1928| 76 min|\n",
      "|La passion de Jea...|In 1431, Jeanne d...|1928|   null|\n",
      "|    Un chien andalou|Luis Buñuel and S...|1929| 16 min|\n",
      "|     Animal Crackers|Mayhem and zanine...|1930| 97 min|\n",
      "|          L'âge d'or|A surrealist tale...|1930| 60 min|\n",
      "|         City Lights|With the aid of a...|1931| 87 min|\n",
      "|             Dracula|Transylvanian vam...|1931| 75 min|\n",
      "|        Frankenstein|Dr. Frankenstein ...|1931| 70 min|\n",
      "|       Little Caesar|A small-time crim...|1931| 79 min|\n",
      "|M - Eine Stadt su...|When the police i...|1931|117 min|\n",
      "|     Monkey Business|On a transatlanti...|1931| 77 min|\n",
      "|    The Public Enemy|An Irish-American...|1931| 83 min|\n",
      "+--------------------+--------------------+----+-------+\n",
      "only showing top 20 rows\n",
      "\n"
     ]
    }
   ],
   "source": [
    "df.withColumnRenamed('Name','New Name').show()"
   ]
  },
  {
   "cell_type": "code",
   "execution_count": 50,
   "id": "ab19bc90",
   "metadata": {},
   "outputs": [
    {
     "name": "stdout",
     "output_type": "stream",
     "text": [
      "+--------------------+--------------------+----+--------------+\n",
      "|                Name|         Description|Year|       Runtime|\n",
      "+--------------------+--------------------+----+--------------+\n",
      "|Das Cabinet des D...|Hypnotist Dr. Cal...|1920|Missing Values|\n",
      "|           Nosferatu|Vampire Count Orl...|1922|        94 min|\n",
      "|        Safety Last!|A boy leaves his ...|null|        74 min|\n",
      "|       The Gold Rush|A prospector goes...|null|Missing Values|\n",
      "|         The General|After being rejec...|null|        67 min|\n",
      "|          Metropolis|In a futuristic c...|null|Missing Values|\n",
      "|Sunrise: A Song o...|A sophisticated u...|1927|Missing Values|\n",
      "| Steamboat Bill, Jr.|The effete son of...|1928|        70 min|\n",
      "|       The Cameraman|      Missing Values|1928|        76 min|\n",
      "|La passion de Jea...|In 1431, Jeanne d...|1928|Missing Values|\n",
      "|    Un chien andalou|Luis Buñuel and S...|1929|        16 min|\n",
      "|     Animal Crackers|Mayhem and zanine...|1930|        97 min|\n",
      "|          L'âge d'or|A surrealist tale...|1930|        60 min|\n",
      "|         City Lights|With the aid of a...|1931|        87 min|\n",
      "|             Dracula|Transylvanian vam...|1931|        75 min|\n",
      "|        Frankenstein|Dr. Frankenstein ...|1931|        70 min|\n",
      "|       Little Caesar|A small-time crim...|1931|        79 min|\n",
      "|M - Eine Stadt su...|When the police i...|1931|       117 min|\n",
      "|     Monkey Business|On a transatlanti...|1931|        77 min|\n",
      "|    The Public Enemy|An Irish-American...|1931|        83 min|\n",
      "+--------------------+--------------------+----+--------------+\n",
      "only showing top 20 rows\n",
      "\n"
     ]
    }
   ],
   "source": [
    "df.na.fill('Missing Values',['Description','Runtime']).show()"
   ]
  },
  {
   "cell_type": "code",
   "execution_count": 51,
   "id": "761997ac",
   "metadata": {},
   "outputs": [
    {
     "name": "stdout",
     "output_type": "stream",
     "text": [
      "+--------------------+----+\n",
      "|                Name|Year|\n",
      "+--------------------+----+\n",
      "|Das Cabinet des D...|1920|\n",
      "|           Nosferatu|1922|\n",
      "|Sunrise: A Song o...|1927|\n",
      "| Steamboat Bill, Jr.|1928|\n",
      "|       The Cameraman|1928|\n",
      "|La passion de Jea...|1928|\n",
      "|    Un chien andalou|1929|\n",
      "|     Animal Crackers|1930|\n",
      "|          L'âge d'or|1930|\n",
      "+--------------------+----+\n",
      "\n"
     ]
    }
   ],
   "source": [
    "df.filter(\"Year<=1930\").select(['Name','Year']).show()"
   ]
  },
  {
   "cell_type": "code",
   "execution_count": 54,
   "id": "0820a3b9",
   "metadata": {},
   "outputs": [
    {
     "name": "stdout",
     "output_type": "stream",
     "text": [
      "+--------------------+--------------------+----+-------+------+\n",
      "|                Name|         Description|Year|Runtime|rating|\n",
      "+--------------------+--------------------+----+-------+------+\n",
      "|Das Cabinet des D...|Hypnotist Dr. Cal...|1920|   null|   9.0|\n",
      "|           Nosferatu|Vampire Count Orl...|1922| 94 min|   9.0|\n",
      "|        Safety Last!|A boy leaves his ...|null| 74 min|   9.0|\n",
      "|       The Gold Rush|A prospector goes...|null|   null|   9.0|\n",
      "|         The General|After being rejec...|null| 67 min|   9.0|\n",
      "|          Metropolis|In a futuristic c...|null|   null|   9.0|\n",
      "|Sunrise: A Song o...|A sophisticated u...|1927|   null|   9.0|\n",
      "| Steamboat Bill, Jr.|The effete son of...|1928| 70 min|   9.0|\n",
      "|       The Cameraman|                null|1928| 76 min|   9.0|\n",
      "|La passion de Jea...|In 1431, Jeanne d...|1928|   null|   9.0|\n",
      "|    Un chien andalou|Luis Buñuel and S...|1929| 16 min|   9.0|\n",
      "|     Animal Crackers|Mayhem and zanine...|1930| 97 min|   9.0|\n",
      "|          L'âge d'or|A surrealist tale...|1930| 60 min|   9.0|\n",
      "|         City Lights|With the aid of a...|1931| 87 min|   9.0|\n",
      "|             Dracula|Transylvanian vam...|1931| 75 min|   9.0|\n",
      "|        Frankenstein|Dr. Frankenstein ...|1931| 70 min|   9.0|\n",
      "|       Little Caesar|A small-time crim...|1931| 79 min|   9.0|\n",
      "|M - Eine Stadt su...|When the police i...|1931|117 min|   9.0|\n",
      "|     Monkey Business|On a transatlanti...|1931| 77 min|   9.0|\n",
      "|    The Public Enemy|An Irish-American...|1931| 83 min|   9.0|\n",
      "+--------------------+--------------------+----+-------+------+\n",
      "only showing top 20 rows\n",
      "\n"
     ]
    }
   ],
   "source": [
    "from pyspark.sql.functions import lit\n",
    "df.withColumn(\"rating\", lit(9.0)) \\\n",
    "  .show()"
   ]
  },
  {
   "cell_type": "code",
   "execution_count": 60,
   "id": "a63c44f1",
   "metadata": {},
   "outputs": [
    {
     "name": "stdout",
     "output_type": "stream",
     "text": [
      "+--------------------+--------------------+----+-------+\n",
      "|                Name|         Description|Year|Runtime|\n",
      "+--------------------+--------------------+----+-------+\n",
      "|Das Cabinet des D...|Hypnotist Dr. Cal...|1920|   null|\n",
      "|           Nosferatu|Vampire Count Orl...|1922| 94 min|\n",
      "|        Safety Last!|A boy leaves his ...|null| 74 min|\n",
      "|       The Gold Rush|A prospector goes...|null|   null|\n",
      "|         The General|After being rejec...|null| 67 min|\n",
      "|          Metropolis|In a futuristic c...|null|   null|\n",
      "|Sunrise: A Song o...|A sophisticated u...|1927|   null|\n",
      "| Steamboat Bill, Jr.|The effete son of...|1928| 70 min|\n",
      "|       The Cameraman|                null|1928| 76 min|\n",
      "|La passion de Jea...|In 1431, Jeanne d...|1928|   null|\n",
      "|    Un chien andalou|Luis Buñuel and S...|1929| 16 min|\n",
      "|     Animal Crackers|Mayhem and zanine...|1930| 97 min|\n",
      "|          L'âge d'or|A surrealist tale...|1930| 60 min|\n",
      "|         City Lights|With the aid of a...|1931| 87 min|\n",
      "|             Dracula|Transylvanian vam...|1931| 75 min|\n",
      "|        Frankenstein|Dr. Frankenstein ...|1931| 70 min|\n",
      "|       Little Caesar|A small-time crim...|1931| 79 min|\n",
      "|M - Eine Stadt su...|When the police i...|1931|117 min|\n",
      "|     Monkey Business|On a transatlanti...|1931| 77 min|\n",
      "|    The Public Enemy|An Irish-American...|1931| 83 min|\n",
      "+--------------------+--------------------+----+-------+\n",
      "only showing top 20 rows\n",
      "\n"
     ]
    }
   ],
   "source": [
    "from pyspark.sql.functions import col\n",
    "df.withColumn(\"Year\",col(\"year\").cast(\"Integer\")).show()"
   ]
  },
  {
   "cell_type": "code",
   "execution_count": 62,
   "id": "af003a4f",
   "metadata": {},
   "outputs": [],
   "source": [
    "#filling the null values in year column using mode operation\n",
    "df1 = df.where(col('Year').isNotNull())"
   ]
  },
  {
   "cell_type": "code",
   "execution_count": 63,
   "id": "e0c3db6b",
   "metadata": {},
   "outputs": [
    {
     "name": "stdout",
     "output_type": "stream",
     "text": [
      "+----+-----+\n",
      "|Year|count|\n",
      "+----+-----+\n",
      "|1949|    7|\n",
      "|1933|    7|\n",
      "|1931|    7|\n",
      "|1950|    7|\n",
      "|1932|    6|\n",
      "|1941|    5|\n",
      "|1948|    5|\n",
      "|1940|    5|\n",
      "|1947|    5|\n",
      "|1946|    5|\n",
      "|1945|    4|\n",
      "|1938|    4|\n",
      "|1934|    4|\n",
      "|1935|    3|\n",
      "|1943|    3|\n",
      "|1944|    3|\n",
      "|1928|    3|\n",
      "|1930|    2|\n",
      "|1942|    2|\n",
      "|1939|    2|\n",
      "+----+-----+\n",
      "only showing top 20 rows\n",
      "\n"
     ]
    }
   ],
   "source": [
    "df1.registerTempTable('table')\n",
    "df2=spark.sql(\n",
    "    'SELECT Year, COUNT(Year) AS count FROM table GROUP BY Year ORDER BY count desc'\n",
    ")\n",
    "df2.show()"
   ]
  },
  {
   "cell_type": "code",
   "execution_count": 64,
   "id": "ce61f095",
   "metadata": {},
   "outputs": [
    {
     "name": "stdout",
     "output_type": "stream",
     "text": [
      "1931\n"
     ]
    }
   ],
   "source": [
    "mode_value = df2.first()['Year']\n",
    "print(mode_value)\n",
    "     "
   ]
  },
  {
   "cell_type": "code",
   "execution_count": 65,
   "id": "087a40c0",
   "metadata": {},
   "outputs": [
    {
     "name": "stdout",
     "output_type": "stream",
     "text": [
      "+--------------------+--------------------+----+-------+\n",
      "|                Name|         Description|Year|Runtime|\n",
      "+--------------------+--------------------+----+-------+\n",
      "|Das Cabinet des D...|Hypnotist Dr. Cal...|1920|   null|\n",
      "|           Nosferatu|Vampire Count Orl...|1922| 94 min|\n",
      "|        Safety Last!|A boy leaves his ...|1931| 74 min|\n",
      "|       The Gold Rush|A prospector goes...|1931|   null|\n",
      "|         The General|After being rejec...|1931| 67 min|\n",
      "|          Metropolis|In a futuristic c...|1931|   null|\n",
      "|Sunrise: A Song o...|A sophisticated u...|1927|   null|\n",
      "| Steamboat Bill, Jr.|The effete son of...|1928| 70 min|\n",
      "|       The Cameraman|                null|1928| 76 min|\n",
      "|La passion de Jea...|In 1431, Jeanne d...|1928|   null|\n",
      "|    Un chien andalou|Luis Buñuel and S...|1929| 16 min|\n",
      "|     Animal Crackers|Mayhem and zanine...|1930| 97 min|\n",
      "|          L'âge d'or|A surrealist tale...|1930| 60 min|\n",
      "|         City Lights|With the aid of a...|1931| 87 min|\n",
      "|             Dracula|Transylvanian vam...|1931| 75 min|\n",
      "|        Frankenstein|Dr. Frankenstein ...|1931| 70 min|\n",
      "|       Little Caesar|A small-time crim...|1931| 79 min|\n",
      "|M - Eine Stadt su...|When the police i...|1931|117 min|\n",
      "|     Monkey Business|On a transatlanti...|1931| 77 min|\n",
      "|    The Public Enemy|An Irish-American...|1931| 83 min|\n",
      "+--------------------+--------------------+----+-------+\n",
      "only showing top 20 rows\n",
      "\n"
     ]
    }
   ],
   "source": [
    "df = df.fillna({'Year':mode_value})\n",
    "df.show()"
   ]
  },
  {
   "cell_type": "code",
   "execution_count": null,
   "id": "e1f97b6b",
   "metadata": {},
   "outputs": [],
   "source": []
  }
 ],
 "metadata": {
  "kernelspec": {
   "display_name": "Python 3 (ipykernel)",
   "language": "python",
   "name": "python3"
  },
  "language_info": {
   "codemirror_mode": {
    "name": "ipython",
    "version": 3
   },
   "file_extension": ".py",
   "mimetype": "text/x-python",
   "name": "python",
   "nbconvert_exporter": "python",
   "pygments_lexer": "ipython3",
   "version": "3.10.7"
  }
 },
 "nbformat": 4,
 "nbformat_minor": 5
}
